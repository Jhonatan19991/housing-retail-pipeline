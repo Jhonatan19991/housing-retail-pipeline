{
 "cells": [
  {
   "cell_type": "code",
   "execution_count": 46,
   "id": "b5718b97",
   "metadata": {},
   "outputs": [
    {
     "data": {
      "text/plain": [
       "Fecha                  0\n",
       "URL                    0\n",
       "Título                 0\n",
       "Constructor            0\n",
       "Item                   0\n",
       "Unidades               0\n",
       "Direccion_Principal    0\n",
       "Direccion_Asociadas    0\n",
       "lat/lon                0\n",
       "dtype: int64"
      ]
     },
     "execution_count": 46,
     "metadata": {},
     "output_type": "execute_result"
    }
   ],
   "source": [
    "import pandas as pd\n",
    "\n",
    "df = pd.read_csv(\"datos.csv\")\n",
    "\n",
    "df.isnull().sum()\n"
   ]
  },
  {
   "cell_type": "code",
   "execution_count": 45,
   "id": "a80e4abe",
   "metadata": {},
   "outputs": [
    {
     "name": "stdout",
     "output_type": "stream",
     "text": [
      "Bounding Box: {'min_lat': 3.2580677, 'max_lat': 3.2637528, 'min_lon': -76.5392914, 'max_lon': -76.534036}\n",
      "Bounding Box: {'min_lat': 3.2568976, 'max_lat': 3.2704226, 'min_lon': -76.5429691, 'max_lon': -76.5342133}\n"
     ]
    }
   ],
   "source": [
    "url = 'https://www.fincaraiz.com.co/proyectos-vivienda/canarios-del-castillo-d/15017202'\n",
    "\n",
    "info = get_dynamic_content_headless(url)"
   ]
  }
 ],
 "metadata": {
  "kernelspec": {
   "display_name": "venv",
   "language": "python",
   "name": "python3"
  },
  "language_info": {
   "codemirror_mode": {
    "name": "ipython",
    "version": 3
   },
   "file_extension": ".py",
   "mimetype": "text/x-python",
   "name": "python",
   "nbconvert_exporter": "python",
   "pygments_lexer": "ipython3",
   "version": "3.12.1"
  }
 },
 "nbformat": 4,
 "nbformat_minor": 5
}
